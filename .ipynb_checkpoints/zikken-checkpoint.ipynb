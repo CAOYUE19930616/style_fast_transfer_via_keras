{
 "cells": [
  {
   "cell_type": "markdown",
   "metadata": {},
   "source": [
    "## Experiment of VGGNoremalize"
   ]
  },
  {
   "cell_type": "code",
   "execution_count": 10,
   "metadata": {
    "collapsed": false
   },
   "outputs": [],
   "source": [
    "from keras.preprocessing import image\n",
    "from keras import backend as K\n",
    "from keras.engine.topology import Layer\n",
    "from keras.preprocessing import image\n",
    "from keras.applications.vgg16 import VGG16, preprocess_input, decode_predictions\n",
    "import numpy as np\n",
    "\n",
    "from preprocess import load_image\n",
    "\n",
    "model = VGG16(include_top=True, weights='imagenet', input_tensor=None)\n",
    "x1 = load_image(\"sample_imgs/style_1.png\", 224)\n",
    "#x1 = image.load_img(\"sample_imgs/tubingen.jpg\", target_size=(224, 224))\n",
    "#x1 = image.img_to_array(x1)\n",
    "#x1 = np.expand_dims(x1, axis=0)\n",
    "\n",
    "x2 = image.load_img(\"sample_imgs/style_1.png\", target_size=(224, 224))\n",
    "x2 = image.img_to_array(x2)\n",
    "x2 = np.expand_dims(x2, axis=0)\n",
    "x2 = preprocess_input(x2)"
   ]
  },
  {
   "cell_type": "code",
   "execution_count": 11,
   "metadata": {
    "collapsed": false
   },
   "outputs": [],
   "source": [
    "class VGGNormalize(Layer):\n",
    "\n",
    "    def __init__(self, height, width, **kwargs):\n",
    "        super(VGGNormalize, self).__init__(**kwargs)\n",
    "        self.height = height\n",
    "        self.width = width\n",
    "        self.MEAN_VALUE_TENSOR = self.make_mean_tensor()\n",
    "\n",
    "    def build(self, input_shape):\n",
    "        pass\n",
    "\n",
    "    def call(self, x, mask=None):\n",
    "        # 'RGB'->'BGR'\n",
    "        x = K.reverse(x, axes=-1)\n",
    "        # Zero-center by mean pixel\n",
    "        x = x - self.MEAN_VALUE_TENSOR\n",
    "        return x\n",
    "\n",
    "    def make_mean_tensor(self):\n",
    "        x = np.empty((1,self.height,self.width,3))\n",
    "        x[:, :, :, 0] = 103.939\n",
    "        x[:, :, :, 1] = 116.779\n",
    "        x[:, :, :, 2] = 123.68\n",
    "        return K.variable(x)\n",
    "\n",
    "    def get_output_shape_for(self, input_shape):\n",
    "        return input_shape"
   ]
  },
  {
   "cell_type": "code",
   "execution_count": 12,
   "metadata": {
    "collapsed": false,
    "scrolled": true
   },
   "outputs": [
    {
     "name": "stdout",
     "output_type": "stream",
     "text": [
      "('n03598930', 'jigsaw_puzzle', 0.97671187)\n",
      "('n07248320', 'book_jacket', 0.0041269348)\n",
      "('n03733281', 'maze', 0.0039391285)\n",
      "('n06794110', 'street_sign', 0.0037553853)\n",
      "('n03032252', 'cinema', 0.0020898895)\n",
      "#######\n",
      "('n03223299', 'doormat', 0.40044746)\n",
      "('n03598930', 'jigsaw_puzzle', 0.3552596)\n",
      "('n03207743', 'dishrag', 0.053153243)\n",
      "('n03733281', 'maze', 0.048061002)\n",
      "('n04033995', 'quilt', 0.029221673)\n"
     ]
    }
   ],
   "source": [
    "from keras.models import Model\n",
    "from keras.layers import Input\n",
    "ip = Input((224,224,3))\n",
    "h = VGGNormalize(224,224)(ip)\n",
    "out = model(h)\n",
    "model2 = Model(ip, out)\n",
    "results = decode_predictions(model2.predict(x1))[0]\n",
    "for result in results:\n",
    "    print(result)\n",
    "\n",
    "results = decode_predictions(model.predict(x2))[0]\n",
    "for result in results:\n",
    "    print(result)\n"
   ]
  },
  {
   "cell_type": "markdown",
   "metadata": {
    "collapsed": true
   },
   "source": [
    "## Create model"
   ]
  },
  {
   "cell_type": "code",
   "execution_count": 13,
   "metadata": {
    "collapsed": false
   },
   "outputs": [],
   "source": [
    "from keras.models import Model\n",
    "from keras.layers import Input, merge\n",
    "from keras.layers.core import Activation\n",
    "from keras.layers.advanced_activations import ELU\n",
    "from keras.layers.convolutional import Convolution2D, ZeroPadding2D, Deconvolution2D, AveragePooling2D\n",
    "from keras.layers.normalization import BatchNormalization\n",
    "from keras import backend as K\n",
    "from keras.applications.vgg16 import VGG16, preprocess_input\n",
    "\n",
    "from layers import *\n",
    "\n",
    "import h5py\n",
    "import numpy as np\n",
    "\n",
    "class FastStyleNet:\n",
    "\n",
    "    def __init__(self, img_height=256, img_width=256):\n",
    "        self.img_height = img_height\n",
    "        self.img_width = img_width\n",
    "\n",
    "    def residual_block(sefl, x, nb_filter, ksize):\n",
    "        h = Convolution2D(nb_filter, ksize, ksize, subsample=(1, 1), border_mode='same')(x)\n",
    "        h = BatchNormalization()(h)\n",
    "        h = Activation(\"relu\")(h)\n",
    "        h = Convolution2D(nb_filter, ksize, ksize, subsample=(1, 1), border_mode='same')(h)\n",
    "        h = BatchNormalization()(h)\n",
    "        if K.int_shape(x) != K.int_shape(h):\n",
    "            n, c, hh, ww = K.int_shape(x)\n",
    "            pad_c = K.int_shape(h)[1] - c\n",
    "            p = K.zeros((n, pad_c, hh, ww), dtype=xp.float32)\n",
    "            p = K.variable(p)\n",
    "            x = K.concatenate([p, x], axis=1) #channel\n",
    "            if K.int_shape(x)[2:] != K.int_shape(h)[2:]:\n",
    "                x = AveragePooling2D(pool_size=(2, 2), strides=1)(x)\n",
    "        m = merge([h, x], mode='sum')\n",
    "        return m\n",
    "\n",
    "    def create_model(self):\n",
    "        # use \"tf\" dim-ordering\n",
    "        inputs = Input((self.img_height, self.img_width, 3))\n",
    "\n",
    "        h = Convolution2D(32, 9, 9, border_mode=\"same\")(inputs)\n",
    "        h = BatchNormalization()(h)\n",
    "        h = Activation(\"relu\")(h)\n",
    "\n",
    "        h = ZeroPadding2D((1, 1))(h)\n",
    "        h = Convolution2D(64, 4, 4, border_mode='valid', subsample=(2, 2))(h)\n",
    "        h = BatchNormalization()(h)\n",
    "        h = Activation(\"relu\")(h)\n",
    "\n",
    "        h = ZeroPadding2D((1, 1))(h)\n",
    "        h = Convolution2D(128, 4, 4, border_mode='valid', subsample=(2, 2))(h)\n",
    "        h = BatchNormalization()(h)\n",
    "        h = Activation(\"relu\")(h)\n",
    "\n",
    "        h = self.residual_block(h, 128, 3)\n",
    "        h = self.residual_block(h, 128, 3)\n",
    "        h = self.residual_block(h, 128, 3)\n",
    "        h = self.residual_block(h, 128, 3)\n",
    "        h = self.residual_block(h, 128, 3)\n",
    "\n",
    "        h = Deconvolution2D(64, 4, 4, activation=\"linear\", border_mode=\"same\", subsample=(2, 2),\n",
    "                                 output_shape=(1, self.img_height // 2, self.img_width // 2, 64),\n",
    "                                 name=\"deconv3\")(h)\n",
    "        h = BatchNormalization()(h)\n",
    "        h = Activation(\"relu\")(h)\n",
    "\n",
    "        h = Deconvolution2D(32, 4, 4, activation=\"linear\", border_mode=\"same\", subsample=(2, 2),\n",
    "                                 output_shape=(1, self.img_height, self.img_width, 32),\n",
    "                                 name=\"deconv2\")(h)\n",
    "        h = BatchNormalization()(h)\n",
    "        h = Activation(\"relu\")(h)\n",
    "\n",
    "        h = Deconvolution2D(3, 9, 9, activation=\"tanh\", border_mode=\"same\", subsample=(1, 1),\n",
    "                                 output_shape=(1, self.img_height, self.img_width, 3),\n",
    "                                 name=\"deconv1\")(h)\n",
    "        out = Denormalize()(h)\n",
    "\n",
    "        return Model(inputs, out)"
   ]
  },
  {
   "cell_type": "code",
   "execution_count": 14,
   "metadata": {
    "collapsed": true
   },
   "outputs": [],
   "source": [
    "from keras import backend as K"
   ]
  },
  {
   "cell_type": "code",
   "execution_count": 25,
   "metadata": {
    "collapsed": true
   },
   "outputs": [],
   "source": [
    "A = K.variable(np.asarray([[[1,2,3],[4,5,6],[7,8,9]]]))\n",
    "B = K.variable(np.asarray([[[9,8,7],[6,5,4],[3,2,1]]]))"
   ]
  },
  {
   "cell_type": "code",
   "execution_count": 35,
   "metadata": {
    "collapsed": false
   },
   "outputs": [
    {
     "data": {
      "text/plain": [
       "array([[ 38.66666794,   2.66666675,  38.66666794]], dtype=float32)"
      ]
     },
     "execution_count": 35,
     "metadata": {},
     "output_type": "execute_result"
    }
   ],
   "source": [
    "K.get_value(K.mean(K.square(A - B), axis=-1))"
   ]
  },
  {
   "cell_type": "code",
   "execution_count": 29,
   "metadata": {
    "collapsed": false
   },
   "outputs": [
    {
     "data": {
      "text/plain": [
       "(1, 3, 3)"
      ]
     },
     "execution_count": 29,
     "metadata": {},
     "output_type": "execute_result"
    }
   ],
   "source": [
    "(K.get_value(A)).shape"
   ]
  },
  {
   "cell_type": "code",
   "execution_count": 30,
   "metadata": {
    "collapsed": false
   },
   "outputs": [
    {
     "data": {
      "text/plain": [
       "array([[[-8., -6., -4.],\n",
       "        [-2.,  0.,  2.],\n",
       "        [ 4.,  6.,  8.]]], dtype=float32)"
      ]
     },
     "execution_count": 30,
     "metadata": {},
     "output_type": "execute_result"
    }
   ],
   "source": [
    "K.get_value(A - B)"
   ]
  },
  {
   "cell_type": "code",
   "execution_count": 31,
   "metadata": {
    "collapsed": false
   },
   "outputs": [
    {
     "data": {
      "text/plain": [
       "array([[[ 64.,  36.,  16.],\n",
       "        [  4.,   0.,   4.],\n",
       "        [ 16.,  36.,  64.]]], dtype=float32)"
      ]
     },
     "execution_count": 31,
     "metadata": {},
     "output_type": "execute_result"
    }
   ],
   "source": [
    "K.get_value(K.square(A - B))"
   ]
  },
  {
   "cell_type": "code",
   "execution_count": 33,
   "metadata": {
    "collapsed": false
   },
   "outputs": [
    {
     "data": {
      "text/plain": [
       "26.666666"
      ]
     },
     "execution_count": 33,
     "metadata": {},
     "output_type": "execute_result"
    }
   ],
   "source": [
    "K.get_value(K.mean(K.square(A - B)))"
   ]
  },
  {
   "cell_type": "code",
   "execution_count": 38,
   "metadata": {
    "collapsed": false
   },
   "outputs": [
    {
     "data": {
      "text/plain": [
       "240.0"
      ]
     },
     "execution_count": 38,
     "metadata": {},
     "output_type": "execute_result"
    }
   ],
   "source": [
    "K.get_value(K.sum(K.square(A - B)))"
   ]
  },
  {
   "cell_type": "code",
   "execution_count": null,
   "metadata": {
    "collapsed": true
   },
   "outputs": [],
   "source": []
  }
 ],
 "metadata": {
  "kernelspec": {
   "display_name": "Python 3",
   "language": "python",
   "name": "python3"
  },
  "language_info": {
   "codemirror_mode": {
    "name": "ipython",
    "version": 3
   },
   "file_extension": ".py",
   "mimetype": "text/x-python",
   "name": "python",
   "nbconvert_exporter": "python",
   "pygments_lexer": "ipython3",
   "version": "3.5.1"
  }
 },
 "nbformat": 4,
 "nbformat_minor": 0
}
